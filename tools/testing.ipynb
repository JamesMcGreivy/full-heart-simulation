{
 "cells": [
  {
   "cell_type": "code",
   "execution_count": 4,
   "metadata": {},
   "outputs": [],
   "source": [
    "import os\n",
    "import carputils.carpio.igb as igb\n",
    "import numpy as np"
   ]
  },
  {
   "cell_type": "code",
   "execution_count": 5,
   "metadata": {},
   "outputs": [],
   "source": [
    "os.chdir(\".\")\n",
    "filename = \"../data/only_fiber_conductivity/vm.igb\""
   ]
  },
  {
   "cell_type": "code",
   "execution_count": 6,
   "metadata": {},
   "outputs": [
    {
     "data": {
      "text/plain": [
       "{'x': 191568,\n",
       " 'y': 1,\n",
       " 'z': 1,\n",
       " 't': 501,\n",
       " 'type': 'float',\n",
       " 'systeme': 'little_endian',\n",
       " 'dim_x': 1.0,\n",
       " 'dim_t': 500.0,\n",
       " 'inc_t': 1.0,\n",
       " 'unites_x': 'um',\n",
       " 'unites_y': 'um',\n",
       " 'unites_z': 'um',\n",
       " 'unites_t': 'ms',\n",
       " 'unites': 'mV'}"
      ]
     },
     "execution_count": 6,
     "metadata": {},
     "output_type": "execute_result"
    }
   ],
   "source": [
    "data = igb.read(filename)\n",
    "data[1]"
   ]
  },
  {
   "cell_type": "code",
   "execution_count": 8,
   "metadata": {},
   "outputs": [
    {
     "data": {
      "text/plain": [
       "(191568, 501)"
      ]
     },
     "execution_count": 8,
     "metadata": {},
     "output_type": "execute_result"
    }
   ],
   "source": [
    "Vm = data[0]\n",
    "Vm.shape"
   ]
  },
  {
   "cell_type": "code",
   "execution_count": 26,
   "metadata": {},
   "outputs": [
    {
     "name": "stdout",
     "output_type": "stream",
     "text": [
      "Reading points from ../data/instance_001_lowres/instance_001_lowres.pts\n",
      "Loaded 191568 points with shape (191568, 3)\n"
     ]
    }
   ],
   "source": [
    "def read_points(pts_file):\n",
    "    \"\"\"\n",
    "    Read the .pts file and return an array of points with dimension (n_points x 3).\n",
    "    \"\"\"\n",
    "    print(f\"Reading points from {pts_file}\")\n",
    "    \n",
    "    with open(pts_file, 'r') as f:\n",
    "        # Read the number of points from the first line\n",
    "        n_points = int(f.readline().strip())\n",
    "        \n",
    "        # Initialize the points array\n",
    "        points = np.zeros((n_points, 3))\n",
    "        \n",
    "        # Read each point\n",
    "        for i in range(n_points):\n",
    "            line = f.readline().strip()\n",
    "            # Parse x, y, z coordinates\n",
    "            x, y, z = map(float, line.split())\n",
    "            points[i] = [x, y, z]\n",
    "    \n",
    "    print(f\"Loaded {n_points} points with shape {points.shape}\")\n",
    "    return points\n",
    "\n",
    "points = read_points(\"../data/instance_001_lowres/instance_001_lowres.pts\")"
   ]
  },
  {
   "cell_type": "code",
   "execution_count": 29,
   "metadata": {},
   "outputs": [],
   "source": [
    "i_max = 501\n",
    "dyn_pts = np.zeros([i_max] + list(points.shape))\n",
    "for i in range(0, i_max):\n",
    "    t = np.pi * i / i_max\n",
    "    scale = 1 - 0.1 * np.sin(t)**2.0\n",
    "    dyn_pts[i] = scale * points"
   ]
  },
  {
   "cell_type": "code",
   "execution_count": 30,
   "metadata": {},
   "outputs": [
    {
     "name": "stdout",
     "output_type": "stream",
     "text": [
      "(501, 191568, 3)\n"
     ]
    }
   ],
   "source": [
    "import numpy as np\n",
    "from carputils.carpio import igb\n",
    "\n",
    "# Create a small test dataset\n",
    "data = dyn_pts.astype(np.float32)\n",
    "print(data.shape)\n",
    "# Write the file with all necessary header fields\n",
    "file = igb.IGBFile(\"../data/test.dynpt\", mode=\"w\")\n",
    "file.write(data, header={\n",
    "    \"type\": \"vec3f\",\n",
    "    \"t\": dyn_pts.shape[0],\n",
    "    \"x\": dyn_pts.shape[1],\n",
    "    \"inc_t\": 0.5,\n",
    "    \"dim_t\": (dyn_pts.shape[0] - 1) * 0.5,\n",
    "})\n",
    "file.close()"
   ]
  },
  {
   "cell_type": "code",
   "execution_count": null,
   "metadata": {},
   "outputs": [],
   "source": []
  }
 ],
 "metadata": {
  "kernelspec": {
   "display_name": "openCARP",
   "language": "python",
   "name": "python3"
  },
  "language_info": {
   "codemirror_mode": {
    "name": "ipython",
    "version": 3
   },
   "file_extension": ".py",
   "mimetype": "text/x-python",
   "name": "python",
   "nbconvert_exporter": "python",
   "pygments_lexer": "ipython3",
   "version": "3.10.13"
  }
 },
 "nbformat": 4,
 "nbformat_minor": 2
}
