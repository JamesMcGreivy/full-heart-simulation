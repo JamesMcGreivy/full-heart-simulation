{
 "cells": [
  {
   "cell_type": "code",
   "execution_count": 2,
   "metadata": {},
   "outputs": [
    {
     "data": {
      "text/plain": [
       "<module 'mesh_utils' from '/Users/jamesmcgreivy/Desktop/opencarp_test/full-heart-simulation/tools/mesh_utils.py'>"
      ]
     },
     "execution_count": 2,
     "metadata": {},
     "output_type": "execute_result"
    }
   ],
   "source": [
    "import mesh_utils\n",
    "import numpy as np\n",
    "import importlib\n",
    "importlib.reload(mesh_utils)"
   ]
  },
  {
   "cell_type": "markdown",
   "metadata": {},
   "source": [
    "## For converting the raw .vtp and .vtu files to openCARP format:"
   ]
  },
  {
   "cell_type": "code",
   "execution_count": 4,
   "metadata": {},
   "outputs": [],
   "source": [
    "# data_path = \"../data/instance_001/\"\n",
    "# vtp_path = data_path + \"instance_001.vtp\"\n",
    "# vtu_path = data_path + \"instance_001.vtu\"\n",
    "# output_prefix = \"instance_001\"\n",
    "\n",
    "# mesh_utils.vtk_to_opencarp(vtp_path, vtu_path, output_prefix, data_path)"
   ]
  },
  {
   "cell_type": "markdown",
   "metadata": {},
   "source": [
    "## Read in the points, surfaces, tetrahedra, and UVCs"
   ]
  },
  {
   "cell_type": "code",
   "execution_count": 5,
   "metadata": {},
   "outputs": [
    {
     "name": "stdout",
     "output_type": "stream",
     "text": [
      "Reading points from ../data/instance_001/instance_001.pts\n",
      "Loaded 478820 points with shape (478820, 3)\n",
      "Reading tetrahedra from ../data/instance_001/instance_001.elem\n",
      "Loaded 2555157 tetrahedra with shape (2555157, 4)\n",
      "Reading triangles from ../data/instance_001/instance_001.surf\n",
      "Loaded 199902 triangles with shape (199902, 3)\n",
      "Reading UVC data from ../data/instance_001/instance_001_UVC.csv\n",
      "Loaded UVC data with shape (478820, 6)\n",
      "UVC columns: ['tv', 'tm', 'rtSin', 'rtCos', 'rt', 'ab']\n"
     ]
    }
   ],
   "source": [
    "prefix = \"instance_001\"\n",
    "data_path = f\"../data/{prefix}\"\n",
    "\n",
    "reader = mesh_utils.OpenCARPMeshReader(data_path, prefix)\n",
    "points, tetrahedra, tetrahedra_regions, triangles, triangle_regions, uvc_data = reader.read_all()"
   ]
  },
  {
   "cell_type": "markdown",
   "metadata": {},
   "source": [
    "## Use the UVCs to define a coordinate system and compute the fiber and sheet directions"
   ]
  },
  {
   "cell_type": "code",
   "execution_count": 6,
   "metadata": {},
   "outputs": [],
   "source": [
    "phi_transmural = np.array(uvc_data['tm'])\n",
    "phi_longitudinal = np.array(uvc_data['ab'])\n",
    "phi_circumferential = np.array(uvc_data[\"rt\"])"
   ]
  },
  {
   "cell_type": "code",
   "execution_count": 7,
   "metadata": {},
   "outputs": [
    {
     "name": "stdout",
     "output_type": "stream",
     "text": [
      "Original points: 478820\n",
      "Original triangles: 199902\n",
      "Epicardium triangles: 91160\n",
      "Endocardium triangles: 104504\n",
      "Sampled epicardium points: 917\n",
      "Sampled endocardium points: 1053\n"
     ]
    },
    {
     "data": {
      "application/vnd.jupyter.widget-view+json": {
       "model_id": "6ae0940794e748baa3c323d63b4e2bfd",
       "version_major": 2,
       "version_minor": 0
      },
      "text/plain": [
       "Widget(value='<iframe src=\"http://localhost:59447/index.html?ui=P_0x12dd24a90_0&reconnect=auto\" class=\"pyvista…"
      ]
     },
     "metadata": {},
     "output_type": "display_data"
    }
   ],
   "source": [
    "TransmuralField, LongitudinalField, CircumferentialField = mesh_utils.compute_normed_gradients(points, -phi_transmural, -phi_longitudinal, phi_circumferential)\n",
    "\n",
    "mesh_utils.visualize_vector_fields(\n",
    "    points, triangles, triangle_regions,\n",
    "    TransmuralField, LongitudinalField, CircumferentialField, subsample_factor=50, glyph_scale=5000\n",
    ")"
   ]
  },
  {
   "cell_type": "code",
   "execution_count": 8,
   "metadata": {},
   "outputs": [
    {
     "name": "stdout",
     "output_type": "stream",
     "text": [
      "Original points: 478820\n",
      "Original triangles: 199902\n",
      "Epicardium triangles: 91160\n",
      "Endocardium triangles: 104504\n",
      "Sampled epicardium points: 917\n",
      "Sampled endocardium points: 1053\n"
     ]
    },
    {
     "data": {
      "application/vnd.jupyter.widget-view+json": {
       "model_id": "7a868b462be0468c89682bc6fd6ae4da",
       "version_major": 2,
       "version_minor": 0
      },
      "text/plain": [
       "Widget(value='<iframe src=\"http://localhost:59447/index.html?ui=P_0x1570b8280_1&reconnect=auto\" class=\"pyvista…"
      ]
     },
     "metadata": {},
     "output_type": "display_data"
    }
   ],
   "source": [
    "fiber_dirs, sheet_dirs, sheet_normal_dirs = mesh_utils.compute_fiber_sheet_directions(\n",
    "    TransmuralField, LongitudinalField, CircumferentialField,\n",
    "    phi_transmural, \n",
    "    endo_fiber_angle=60.0, epi_fiber_angle=-60, endo_sheet_angle=-65, epi_sheet_angle=25\n",
    ")\n",
    "\n",
    "mesh_utils.visualize_fibers(\n",
    "    points, triangles, triangle_regions,\n",
    "    fiber_dirs, subsample_factor=50, glyph_scale=5000\n",
    ")"
   ]
  },
  {
   "cell_type": "code",
   "execution_count": 9,
   "metadata": {},
   "outputs": [
    {
     "name": "stdout",
     "output_type": "stream",
     "text": [
      "Processing 2555157 elements for .lon file...\n"
     ]
    },
    {
     "name": "stderr",
     "output_type": "stream",
     "text": [
      "Precomputing element directions: 100%|██████████| 2555157/2555157 [00:50<00:00, 50584.42it/s]\n"
     ]
    },
    {
     "name": "stdout",
     "output_type": "stream",
     "text": [
      "Verifying orthogonality of element directions...\n",
      "Maximum dot products: fiber·sheet=0.999987, fiber·normal=0.999816, sheet·normal=0.999924\n",
      "Writing to ../data/instance_001/instance_001.lon...\n"
     ]
    },
    {
     "name": "stderr",
     "output_type": "stream",
     "text": [
      "Writing .lon file: 100%|██████████| 256/256 [00:05<00:00, 47.63it/s]"
     ]
    },
    {
     "name": "stdout",
     "output_type": "stream",
     "text": [
      "Successfully wrote fiber orientations to ../data/instance_001/instance_001.lon\n"
     ]
    },
    {
     "name": "stderr",
     "output_type": "stream",
     "text": [
      "\n"
     ]
    }
   ],
   "source": [
    "mesh_utils.write_lon_file(\n",
    "    f\"{data_path}/{prefix}.lon\", \n",
    "    fiber_dirs, \n",
    "    sheet_dirs, \n",
    "    sheet_normal_dirs,\n",
    "    tetrahedra\n",
    ")"
   ]
  },
  {
   "cell_type": "markdown",
   "metadata": {},
   "source": [
    "## Tag the fast conducting endocardium"
   ]
  },
  {
   "cell_type": "code",
   "execution_count": 24,
   "metadata": {},
   "outputs": [],
   "source": [
    "import numpy as np\n",
    "from tqdm import tqdm\n",
    "\n",
    "def tag_lcx_infarct_and_endocardium(\n",
    "    points, \n",
    "    tetrahedra, \n",
    "    triangles, \n",
    "    triangle_regions, \n",
    "    phi_transmural,\n",
    "    phi_longitudinal, \n",
    "    phi_circumferential,\n",
    "    output_file,\n",
    "    long_min=0.1,\n",
    "    long_max=0.9,\n",
    "    # Infarct location parameters\n",
    "    infarct_center_circ=0.3,      # Center position around circumference (0-1, 0.25-0.35 for lateral wall)\n",
    "    infarct_center_long=0.45,     # Center position along long axis (0-1, 0=apex, 1=base)\n",
    "    # Infarct size parameters\n",
    "    infarct_width_circ=0.06,      # Half-width in circumferential direction\n",
    "    infarct_width_long=0.15,      # Half-width in longitudinal direction\n",
    "    # Transmural extent parameters\n",
    "    infarct_transmural_min=0.1,   # Minimum transmural extent (0=epicardium)\n",
    "    infarct_transmural_max=0.7,   # Maximum transmural extent (1=endocardium)\n",
    "    # Border zone parameters\n",
    "    border_zone_factor=1.4,       # How much larger the border zone is compared to core\n",
    "    border_transmural_max=0.9,    # Maximum transmural extent for border zone\n",
    "    # Shape modifiers\n",
    "    transmural_taper=0.5,         # How much the infarct tapers from epi to endo (0=no taper, 1=extreme taper)\n",
    "    irregularity=1.0,             # Scale factor for boundary irregularity (0=smooth, 2=very irregular)\n",
    "    random_seed=42,               # Seed for reproducible randomness\n",
    "):\n",
    "    \"\"\"\n",
    "    Tag tetrahedra for:\n",
    "    1. Fast conducting endocardium (region 1)\n",
    "    2. Core infarct zone in lateral LV wall (LCx territory) (region 2)\n",
    "    3. Border zone around the infarct (region 3)\n",
    "    \n",
    "    Parameters:\n",
    "    -----------\n",
    "    points : ndarray (n_pts x 3)\n",
    "        The 3D coordinates for every point in the cardiac mesh\n",
    "    tetrahedra : ndarray (n_tets x 4)\n",
    "        Indices of the four points in each tetrahedron\n",
    "    triangles : ndarray (n_tris x 3)\n",
    "        Indices of the three points in each surface triangle\n",
    "    triangle_regions : ndarray (n_tris)\n",
    "        Region markers for surface triangles\n",
    "    phi_transmural : ndarray (n_pts)\n",
    "        Transmural coordinate (1 on endocardium, 0 on epicardium)\n",
    "    phi_longitudinal : ndarray (n_pts)\n",
    "        Longitudinal coordinate (1 at base, 0 at apex)\n",
    "    phi_circumferential : ndarray (n_pts)\n",
    "        Circumferential coordinate (0 mod 1 at anterior septal wall)\n",
    "    output_file : str\n",
    "        Path to write the resulting .elem file\n",
    "    long_min : float, optional\n",
    "        Minimum longitudinal coordinate for fast conducting endocardium\n",
    "    long_max : float, optional\n",
    "        Maximum longitudinal coordinate for fast conducting endocardium\n",
    "    infarct_center_circ : float, optional\n",
    "        Center position around circumference (0-1, 0.25-0.35 for lateral wall)\n",
    "    infarct_center_long : float, optional\n",
    "        Center position along long axis (0-1, 0=apex, 1=base)\n",
    "    infarct_width_circ : float, optional\n",
    "        Half-width in circumferential direction\n",
    "    infarct_width_long : float, optional\n",
    "        Half-width in longitudinal direction\n",
    "    infarct_transmural_min : float, optional\n",
    "        Minimum transmural extent (0=epicardium)\n",
    "    infarct_transmural_max : float, optional\n",
    "        Maximum transmural extent (1=endocardium)\n",
    "    border_zone_factor : float, optional\n",
    "        How much larger the border zone is compared to core\n",
    "    border_transmural_max : float, optional\n",
    "        Maximum transmural extent for border zone\n",
    "    transmural_taper : float, optional\n",
    "        How much the infarct tapers from epi to endo (0=no taper, 1=extreme taper)\n",
    "    irregularity : float, optional\n",
    "        Scale factor for boundary irregularity (0=smooth, 2=very irregular)\n",
    "    random_seed : int, optional\n",
    "        Seed for reproducible randomness\n",
    "    \"\"\"\n",
    "    print(\"Starting LAD infarct and endocardium tagging...\")\n",
    "    \n",
    "    # Step 1: Identify points for fast conducting endocardium\n",
    "    print(f\"Identifying points with phi_longitudinal between {long_min} and {long_max}...\")\n",
    "    longitudinal_mask = (phi_longitudinal >= long_min) & (phi_longitudinal <= long_max)\n",
    "    valid_longitudinal_points = set(np.where(longitudinal_mask)[0])\n",
    "    print(f\"Found {len(valid_longitudinal_points)} points with valid longitudinal coordinate\")\n",
    "    \n",
    "    # Step 2: Identify points that are part of endocardial triangles (regions 3 or 4)\n",
    "    print(\"Identifying endocardial points...\")\n",
    "    endocardial_triangles = np.where((triangle_regions == 3) | (triangle_regions == 4))[0]\n",
    "    endocardial_points = set()\n",
    "    for tri_idx in endocardial_triangles:\n",
    "        for point_idx in triangles[tri_idx]:\n",
    "            endocardial_points.add(point_idx)\n",
    "    print(f\"Found {len(endocardial_points)} points on the endocardium\")\n",
    "    \n",
    "    # Step 3: Find intersection for endocardial conduction system\n",
    "    valid_endo_points = valid_longitudinal_points.intersection(endocardial_points)\n",
    "    print(f\"Found {len(valid_endo_points)} points for fast conducting endocardium\")\n",
    "    \n",
    "    # Step 4: Define LCx infarct region\n",
    "    # Lateral LV wall, typically in the LCx territory\n",
    "    print(\"Defining lateral wall (LCx) infarct region...\")\n",
    "    \n",
    "    # First, identify LV vs RV points using the endocardial triangles\n",
    "    print(\"Identifying LV points...\")\n",
    "    \n",
    "    # Find LV endocardial triangles (region 3)\n",
    "    lv_endo_triangles = np.where(triangle_regions == 3)[0]\n",
    "    lv_endo_points = set()\n",
    "    for tri_idx in lv_endo_triangles:\n",
    "        for point_idx in triangles[tri_idx]:\n",
    "            lv_endo_points.add(point_idx)\n",
    "    print(f\"Found {len(lv_endo_points)} points on the LV endocardium\")\n",
    "    \n",
    "    # Find RV endocardial triangles (region 4)\n",
    "    rv_endo_triangles = np.where(triangle_regions == 4)[0]\n",
    "    rv_endo_points = set()\n",
    "    for tri_idx in rv_endo_triangles:\n",
    "        for point_idx in triangles[tri_idx]:\n",
    "            rv_endo_points.add(point_idx)\n",
    "    print(f\"Found {len(rv_endo_points)} points on the RV endocardium\")\n",
    "    \n",
    "    # Create a vector from endocardium to each point to determine LV vs RV association\n",
    "    # This is a more robust way to determine ventricle association than just endocardial points\n",
    "    \n",
    "    # First, compute average position of LV and RV endocardial points\n",
    "    lv_center = np.mean(points[list(lv_endo_points)], axis=0)\n",
    "    rv_center = np.mean(points[list(rv_endo_points)], axis=0)\n",
    "    print(f\"LV center: {lv_center}\")\n",
    "    print(f\"RV center: {rv_center}\")\n",
    "    \n",
    "    # Vectorized distance calculation to LV and RV centers\n",
    "    distances_to_lv = np.linalg.norm(points - lv_center, axis=1)\n",
    "    distances_to_rv = np.linalg.norm(points - rv_center, axis=1)\n",
    "    \n",
    "    # Points closer to LV center than RV center are considered LV points\n",
    "    lv_mask = distances_to_lv <= distances_to_rv\n",
    "    print(f\"Identified {np.sum(lv_mask)} points as LV territory\")\n",
    "    \n",
    "    # LAD territory is typically:\n",
    "    # - Anterior wall (phi_circumferential around 0.0 or 1.0)\n",
    "    # - From mid to apical portion (phi_longitudinal in lower range)\n",
    "    # - Can extend from epicardium to endocardium\n",
    "    # - Only in the LV territory\n",
    "    \n",
    "    # Core infarct region with more natural, irregular shape\n",
    "    # Using the provided parameters for center, size, and shape\n",
    "    \n",
    "    # Calculate \"distance\" from center point in UVC space\n",
    "    # Using modified elliptical distance with randomization to create irregularity\n",
    "    circ_dist = np.abs(phi_circumferential - infarct_center_circ)\n",
    "    # Adjust for circular nature of circumferential coordinate\n",
    "    circ_dist = np.minimum(circ_dist, 1.0 - circ_dist)\n",
    "    long_dist = np.abs(phi_longitudinal - infarct_center_long)\n",
    "    \n",
    "    # Create irregular edges using sine functions to modulate the boundary\n",
    "    np.random.seed(random_seed)  # For reproducibility\n",
    "    num_points = len(phi_circumferential)\n",
    "    \n",
    "    # Generate random noise values (once, for efficiency)\n",
    "    noise_factor = 0.02 * irregularity\n",
    "    random_noise = np.random.normal(0, noise_factor, num_points)\n",
    "    \n",
    "    # Create wedge shape - wider at epicardium, narrower at endocardium\n",
    "    # Scale the allowed circumferential width based on transmural depth\n",
    "    transmural_factor = 1.0 - transmural_taper * phi_transmural  # Tapers toward endocardium\n",
    "    \n",
    "    # Modulate boundary with sine waves to create irregularity\n",
    "    boundary_modulation = irregularity * (0.02 * np.sin(phi_longitudinal * 10) + \n",
    "                                         0.015 * np.sin(phi_circumferential * 12))\n",
    "    \n",
    "    # Combine factors to create irregular elliptical distance\n",
    "    scaled_circ_dist = circ_dist / (infarct_width_circ * transmural_factor + boundary_modulation + random_noise)\n",
    "    scaled_long_dist = long_dist / (infarct_width_long + 0.02 * irregularity * np.sin(phi_circumferential * 8) + random_noise)\n",
    "    \n",
    "    # Elliptical distance metric with asymmetry (infarct extends more in longitudinal direction)\n",
    "    distance_metric = np.sqrt(scaled_circ_dist**2 + scaled_long_dist**2)\n",
    "    \n",
    "    # Core infarct is within certain distance of center\n",
    "    core_infarct_mask = (\n",
    "        (distance_metric <= 1.0) &  # Within the irregular elliptical boundary\n",
    "        (phi_transmural <= infarct_transmural_max) & (phi_transmural >= infarct_transmural_min) &  # Transmural extent\n",
    "        lv_mask  # Must be in LV territory\n",
    "    )\n",
    "    core_infarct_points = set(np.where(core_infarct_mask)[0])\n",
    "    print(f\"Found {len(core_infarct_points)} points in core infarct zone\")\n",
    "    \n",
    "    # Border zone (outer perimeter around core)\n",
    "    border_zone_mask = (\n",
    "        (distance_metric <= border_zone_factor) & (distance_metric > 1.0) &  # Ring around core infarct\n",
    "        (phi_transmural <= border_transmural_max) & (phi_transmural >= infarct_transmural_min) &  # Transmural extent\n",
    "        lv_mask  # Must be in LV territory\n",
    "    )\n",
    "    border_zone_points = set(np.where(border_zone_mask)[0])\n",
    "    print(f\"Found {len(border_zone_points)} points in border zone\")\n",
    "    border_zone_points = set(np.where(border_zone_mask)[0])\n",
    "    print(f\"Found {len(border_zone_points)} points in border zone\")\n",
    "    \n",
    "    # Step 5: Mark tetrahedra containing valid points\n",
    "    print(\"Tagging tetrahedra...\")\n",
    "    n_tetrahedra = tetrahedra.shape[0]\n",
    "    tetrahedra_tags = np.zeros(n_tetrahedra, dtype=int)\n",
    "    \n",
    "    # Process in batches to avoid memory issues\n",
    "    batch_size = 10000\n",
    "    for batch_start in tqdm(range(0, n_tetrahedra, batch_size), desc=\"Processing tetrahedra\"):\n",
    "        batch_end = min(batch_start + batch_size, n_tetrahedra)\n",
    "        batch_tetrahedra = tetrahedra[batch_start:batch_end]\n",
    "        \n",
    "        # Check each tetrahedron in the batch\n",
    "        for i, tet in enumerate(batch_tetrahedra):\n",
    "            # Changed priority order: fast conducting endocardium (1) > core infarct (2) > border zone (3) > normal (0)\n",
    "            # This preserves the fast conducting endocardium and prevents overlap with infarct regions\n",
    "            if any(point_idx in valid_endo_points for point_idx in tet):\n",
    "                tetrahedra_tags[batch_start + i] = 1  # Fast conducting endocardium\n",
    "            elif any(point_idx in core_infarct_points for point_idx in tet):\n",
    "                tetrahedra_tags[batch_start + i] = 2  # Core infarct\n",
    "            elif any(point_idx in border_zone_points for point_idx in tet):\n",
    "                tetrahedra_tags[batch_start + i] = 3  # Border zone\n",
    "    \n",
    "    # Count tagged tetrahedra\n",
    "    num_endo = np.sum(tetrahedra_tags == 1)\n",
    "    num_core = np.sum(tetrahedra_tags == 2)\n",
    "    num_border = np.sum(tetrahedra_tags == 3)\n",
    "    print(f\"Tagged {num_endo} tetrahedra ({(num_endo/n_tetrahedra)*100:.2f}%) as fast conducting endocardium\")\n",
    "    print(f\"Tagged {num_core} tetrahedra ({(num_core/n_tetrahedra)*100:.2f}%) as core infarct\")\n",
    "    print(f\"Tagged {num_border} tetrahedra ({(num_border/n_tetrahedra)*100:.2f}%) as border zone\")\n",
    "    \n",
    "    # Step 6: Write the modified .elem file\n",
    "    print(f\"Writing modified element file to {output_file}...\")\n",
    "    with open(output_file, 'w') as fout:\n",
    "        # Write header (number of tetrahedra)\n",
    "        fout.write(f\"{n_tetrahedra}\\n\")\n",
    "        \n",
    "        # Process each tetrahedron and write to file\n",
    "        for i in tqdm(range(n_tetrahedra), desc=\"Writing to file\"):\n",
    "            tet = tetrahedra[i]\n",
    "            # Format: Tt node1 node2 node3 node4 tag\n",
    "            line = f\"Tt {tet[0]} {tet[1]} {tet[2]} {tet[3]} {tetrahedra_tags[i]}\"\n",
    "            fout.write(f\"{line}\\n\")\n",
    "    \n",
    "    print(f\"Successfully wrote modified element file to {output_file}\")\n",
    "    \n",
    "    return tetrahedra_tags"
   ]
  },
  {
   "cell_type": "code",
   "execution_count": 27,
   "metadata": {},
   "outputs": [
    {
     "name": "stdout",
     "output_type": "stream",
     "text": [
      "Starting LAD infarct and endocardium tagging...\n",
      "Identifying points with phi_longitudinal between 0.2 and 0.85...\n",
      "Found 356093 points with valid longitudinal coordinate\n",
      "Identifying endocardial points...\n",
      "Found 52674 points on the endocardium\n",
      "Found 38338 points for fast conducting endocardium\n",
      "Defining lateral wall (LCx) infarct region...\n",
      "Identifying LV points...\n",
      "Found 22982 points on the LV endocardium\n",
      "Found 29692 points on the RV endocardium\n",
      "LV center: [-42204.47786939   3287.49039165   3852.87911223]\n",
      "RV center: [-9798.16758995 -3529.77555458  4007.89927438]\n",
      "Identified 283614 points as LV territory\n",
      "Found 1716 points in core infarct zone\n",
      "Found 2256 points in border zone\n",
      "Found 2256 points in border zone\n",
      "Tagging tetrahedra...\n"
     ]
    },
    {
     "name": "stderr",
     "output_type": "stream",
     "text": [
      "Processing tetrahedra: 100%|██████████| 256/256 [00:04<00:00, 54.13it/s]\n"
     ]
    },
    {
     "name": "stdout",
     "output_type": "stream",
     "text": [
      "Tagged 259191 tetrahedra (10.14%) as fast conducting endocardium\n",
      "Tagged 22439 tetrahedra (0.88%) as core infarct\n",
      "Tagged 27692 tetrahedra (1.08%) as border zone\n",
      "Writing modified element file to ../data/instance_001/instance_001.elem...\n"
     ]
    },
    {
     "name": "stderr",
     "output_type": "stream",
     "text": [
      "Writing to file: 100%|██████████| 2555157/2555157 [00:02<00:00, 979096.15it/s]"
     ]
    },
    {
     "name": "stdout",
     "output_type": "stream",
     "text": [
      "Successfully wrote modified element file to ../data/instance_001/instance_001.elem\n"
     ]
    },
    {
     "name": "stderr",
     "output_type": "stream",
     "text": [
      "\n"
     ]
    },
    {
     "data": {
      "text/plain": [
       "array([0, 0, 0, ..., 1, 0, 0])"
      ]
     },
     "execution_count": 27,
     "metadata": {},
     "output_type": "execute_result"
    }
   ],
   "source": [
    "# mesh_utils.tag_fast_conducting_endocardium(\n",
    "#     points, \n",
    "#     tetrahedra, \n",
    "#     triangles, \n",
    "#     triangle_regions, \n",
    "#     phi_longitudinal, \n",
    "#     f\"{data_path}/{prefix}.elem\",\n",
    "#     long_min = 0.2,\n",
    "#     long_max = 0.85\n",
    "# )\n",
    "\n",
    "tag_lcx_infarct_and_endocardium(\n",
    "    points, \n",
    "    tetrahedra, \n",
    "    triangles, \n",
    "    triangle_regions, \n",
    "    phi_transmural,\n",
    "    phi_longitudinal, \n",
    "    phi_circumferential,\n",
    "    f\"{data_path}/{prefix}.elem\",\n",
    "    long_min=0.2,\n",
    "    long_max=0.85,\n",
    "    # Infarct location parameters\n",
    "    infarct_center_circ=0.2,      # Center position around circumference (0-1, 0.25-0.35 for lateral wall)\n",
    "    infarct_center_long=0.5,     # Center position along long axis (0-1, 0=apex, 1=base)\n",
    "    # Infarct size parameters\n",
    "    infarct_width_circ=0.04,      # Half-width in circumferential direction\n",
    "    infarct_width_long=0.08,      # Half-width in longitudinal direction\n",
    "    # Transmural extent parameters\n",
    "    infarct_transmural_min=0.1,   # Minimum transmural extent (0=epicardium)\n",
    "    infarct_transmural_max=0.7,   # Maximum transmural extent (1=endocardium)\n",
    "    # Border zone parameters\n",
    "    border_zone_factor=1.4,       # How much larger the border zone is compared to core\n",
    "    border_transmural_max=0.9,    # Maximum transmural extent for border zone\n",
    "    # Shape modifiers\n",
    "    transmural_taper=0.8,         # How much the infarct tapers from epi to endo (0=no taper, 1=extreme taper)\n",
    "    irregularity=1.2,             # Scale factor for boundary irregularity (0=smooth, 2=very irregular)\n",
    "    random_seed=42,               # Seed for reproducible randomness\n",
    ")"
   ]
  },
  {
   "cell_type": "markdown",
   "metadata": {},
   "source": [
    "## Tag the fascicular sites and output to a .vtx file"
   ]
  },
  {
   "cell_type": "code",
   "execution_count": null,
   "metadata": {},
   "outputs": [
    {
     "name": "stdout",
     "output_type": "stream",
     "text": [
      "Original points: 478820\n",
      "Original triangles: 199902\n",
      "Number of fascicular sites: 307\n",
      "Endocardium triangles: 104504\n",
      "Displaying all 307 fascicular sites\n"
     ]
    },
    {
     "name": "stderr",
     "output_type": "stream",
     "text": [
      "/Users/jamesmcgreivy/miniconda3/envs/openCARP/lib/python3.10/site-packages/pyvista/core/filters/data_set.py:2386: UserWarning: No vector-like data to use for orient. orient will be set to False.\n",
      "  warnings.warn(\"No vector-like data to use for orient. orient will be set to False.\")\n"
     ]
    },
    {
     "data": {
      "application/vnd.jupyter.widget-view+json": {
       "model_id": "9b4c8f27ed724712892fe161a36d64dd",
       "version_major": 2,
       "version_minor": 0
      },
      "text/plain": [
       "Widget(value='<iframe src=\"http://localhost:53029/index.html?ui=P_0x323624400_6&reconnect=auto\" class=\"pyvista…"
      ]
     },
     "metadata": {},
     "output_type": "display_data"
    },
    {
     "name": "stdout",
     "output_type": "stream",
     "text": [
      "Saving 221 fascicular site indices to ../data/instance_001/immediate_stim.vtx\n",
      "Successfully saved fascicular sites to /Users/jamesmcgreivy/Desktop/opencarp_test/full-heart-simulation/data/instance_001/immediate_stim.vtx\n",
      "Saving 86 fascicular site indices to ../data/instance_001/delayed_stim.vtx\n",
      "Successfully saved fascicular sites to /Users/jamesmcgreivy/Desktop/opencarp_test/full-heart-simulation/data/instance_001/delayed_stim.vtx\n"
     ]
    },
    {
     "data": {
      "text/plain": [
       "'/Users/jamesmcgreivy/Desktop/opencarp_test/full-heart-simulation/data/instance_001/delayed_stim.vtx'"
      ]
     },
     "execution_count": 24,
     "metadata": {},
     "output_type": "execute_result"
    }
   ],
   "source": [
    "import numpy as np\n",
    "\n",
    "def tag_fascicular_sites(points, phi_transmural, phi_longitudinal, phi_circumferential, \n",
    "                          triangles, triangle_regions):\n",
    "    \"\"\"\n",
    "    Tag fascicular sites according to the Durrer-based model.\n",
    "    \n",
    "    Parameters:\n",
    "    ----------\n",
    "    points : numpy.ndarray\n",
    "        Vertices of the mesh\n",
    "    phi_transmural : numpy.ndarray\n",
    "        Transmural coordinates (0 on epicardium, 1 on endocardium)\n",
    "    phi_longitudinal : numpy.ndarray\n",
    "        Longitudinal coordinates (1 on base, 0 on apex)\n",
    "    phi_circumferential : numpy.ndarray\n",
    "        Circumferential coordinates (wraps around from 0-1)\n",
    "    triangles : numpy.ndarray\n",
    "        Triangle indices\n",
    "    triangle_regions : numpy.ndarray\n",
    "        Region labels for each triangle (3 for LV endocardium, 4 for RV endocardium)\n",
    "    \n",
    "    Returns:\n",
    "    -------\n",
    "    is_fascicular_site : numpy.ndarray\n",
    "        Boolean array indicating whether each point is a fascicular site\n",
    "    fascicular_site_tag : numpy.ndarray\n",
    "        Integer array with tags: 0 (not a site), 1 (LV anterior), 2 (LV posterior), \n",
    "        3 (LV/RV septal), 4 (RV moderator band)\n",
    "    \"\"\"\n",
    "    # Constants based on the criteria\n",
    "    transmural_depth = 1.0  # Just pick points directly on the endocardium\n",
    "    disk_thickness = 0.2  # 0.5% of the ventricular wall\n",
    "    \n",
    "    # Initialize arrays\n",
    "    num_points = len(points)\n",
    "    is_fascicular_site = np.zeros(num_points, dtype=bool)\n",
    "    fascicular_site_tag = np.zeros(num_points, dtype=int)\n",
    "    \n",
    "    # Define disk radius for endocardial extent\n",
    "    disk_radius = 0.025  # Adjust this parameter as needed\n",
    "    \n",
    "    # Get indices of LV and RV endocardial points\n",
    "    LV_points = np.array(list(set(triangles[triangle_regions == 3].flatten())))\n",
    "    RV_points = np.array(list(set(triangles[triangle_regions == 4].flatten())))\n",
    "    \n",
    "    # Calculate centers for LV and RV\n",
    "    LV_center = points[LV_points].mean(axis=0)\n",
    "    RV_center = points[RV_points].mean(axis=0)\n",
    "    \n",
    "    # Calculate septal normal vector (from LV to RV)\n",
    "    septal_normal = RV_center - LV_center\n",
    "    septal_normal = septal_normal / np.linalg.norm(septal_normal)\n",
    "    \n",
    "    # Helper function to determine if a point is closer to LV or RV\n",
    "    def is_closer_to_LV(point):\n",
    "        mid_point = (LV_center + RV_center) / 2\n",
    "        distance = np.dot(point - mid_point, septal_normal)\n",
    "        return distance < 0  # Negative means closer to LV, positive means closer to RV\n",
    "    \n",
    "    # 1. LV anterior site\n",
    "    lv_ant_circum = 0.25  # Around 1/4 of the way through circumferential coordinate\n",
    "    lv_ant_longit = 0.5   # Middle of the LV along longitudinal axis\n",
    "    \n",
    "    lv_ant_mask = np.logical_and(\n",
    "        np.abs(phi_transmural - transmural_depth) < disk_thickness/2,\n",
    "        np.logical_and(\n",
    "            (phi_circumferential - lv_ant_circum)**2 + (phi_longitudinal - lv_ant_longit)**2 < disk_radius**2,\n",
    "            np.array([is_closer_to_LV(p) for p in points])\n",
    "        )\n",
    "    )\n",
    "    \n",
    "    is_fascicular_site = np.logical_or(is_fascicular_site, lv_ant_mask)\n",
    "    fascicular_site_tag[lv_ant_mask] = 1\n",
    "    \n",
    "    # 2. LV posterior site\n",
    "    lv_post_circum = 0.6  # Around 3/4 of the way through circumferential coordinate\n",
    "    lv_post_longit = 0.5   # Middle of the LV along longitudinal axis\n",
    "    \n",
    "    lv_post_mask = np.logical_and(\n",
    "        np.abs(phi_transmural - transmural_depth) < disk_thickness/2,\n",
    "        np.logical_and(\n",
    "            (phi_circumferential - lv_post_circum)**2 + (phi_longitudinal - lv_post_longit)**2 < disk_radius**2,\n",
    "            np.array([is_closer_to_LV(p) for p in points])\n",
    "        )\n",
    "    )\n",
    "    \n",
    "    is_fascicular_site = np.logical_or(is_fascicular_site, lv_post_mask)\n",
    "    fascicular_site_tag[lv_post_mask] = 2\n",
    "    \n",
    "    # 3. Septal sites (LV and RV)\n",
    "    septal_anterior_circum = 0.95  # Anterior septal wall\n",
    "    septal_longit = 0.5          # Middle along longitudinal axis\n",
    "    \n",
    "    septal_mask = np.logical_and(\n",
    "        np.abs(phi_transmural - transmural_depth) < disk_thickness/2,\n",
    "        (phi_circumferential - septal_anterior_circum)**2 + (phi_longitudinal - septal_longit)**2 < disk_radius**2\n",
    "    )\n",
    "    \n",
    "    is_fascicular_site = np.logical_or(is_fascicular_site, septal_mask)\n",
    "    fascicular_site_tag[septal_mask] = 3\n",
    "    \n",
    "    # 4. RV moderator band\n",
    "    rv_mod_circum = 0.4      # Middle of RV free wall\n",
    "    rv_mod_longit = 0.5      # Middle along longitudinal axis\n",
    "    \n",
    "    rv_mod_mask = np.logical_and(\n",
    "        np.abs(phi_transmural - transmural_depth) < disk_thickness/2,\n",
    "        np.logical_and(\n",
    "            (phi_circumferential - rv_mod_circum)**2 + (phi_longitudinal - rv_mod_longit)**2 < disk_radius**2,\n",
    "            np.logical_not(np.array([is_closer_to_LV(p) for p in points]))\n",
    "        )\n",
    "    )\n",
    "    \n",
    "    is_fascicular_site = np.logical_or(is_fascicular_site, rv_mod_mask)\n",
    "    fascicular_site_tag[rv_mod_mask] = 4\n",
    "    \n",
    "    return is_fascicular_site, fascicular_site_tag\n",
    "\n",
    "\n",
    "is_fascicular_site, fascicular_site_tag = tag_fascicular_sites(points, phi_transmural, phi_longitudinal, phi_circumferential, triangles, triangle_regions)\n",
    "\n",
    "mesh_utils.visualize_fascicular_sites(\n",
    "    points, triangles, triangle_regions,\n",
    "    is_fascicular_site, fascicular_site_tag, \n",
    "    sphere_scale=1000,\n",
    ")\n",
    "\n",
    "immediate_stim = np.logical_and(is_fascicular_site, np.logical_or(fascicular_site_tag == 1, np.logical_or(fascicular_site_tag == 2, fascicular_site_tag == 3)))\n",
    "mesh_utils.save_fascicular_sites_to_vtx(immediate_stim, output_filename=f\"{data_path}/immediate_stim.vtx\")\n",
    "delayed_stim = np.logical_and(is_fascicular_site, fascicular_site_tag == 4)\n",
    "mesh_utils.save_fascicular_sites_to_vtx(delayed_stim, output_filename=f\"{data_path}/delayed_stim.vtx\")"
   ]
  },
  {
   "cell_type": "code",
   "execution_count": null,
   "metadata": {},
   "outputs": [
    {
     "data": {
      "text/plain": [
       "(array([[-56017.29202271,  23638.37051392,  22255.58662415],\n",
       "        [-55755.47027588,  23849.31755066,  21746.54579163],\n",
       "        [-56104.94232178,  23719.61212158,  21729.83551025],\n",
       "        ...,\n",
       "        [ 14146.57688141,  12142.09842682,  19588.19580078],\n",
       "        [-46888.35525513,  19900.38490295, -25976.59301758],\n",
       "        [-64681.43463135,  11666.8586731 , -12088.70124817]]),\n",
       " array([0.        , 0.        , 0.        , ..., 0.8383389 , 0.5232232 ,\n",
       "        0.08157784]),\n",
       " array([0.79719543, 0.79233015, 0.79219085, ..., 0.8636715 , 0.32573876,\n",
       "        0.5043144 ]),\n",
       " array([0.49104473, 0.49286485, 0.49013183, ..., 0.38543484, 0.46585423,\n",
       "        0.32361218]))"
      ]
     },
     "execution_count": 25,
     "metadata": {},
     "output_type": "execute_result"
    }
   ],
   "source": []
  },
  {
   "cell_type": "markdown",
   "metadata": {},
   "source": [
    "##  Extra utility function -- for visualizing the scalar fields"
   ]
  },
  {
   "cell_type": "code",
   "execution_count": 12,
   "metadata": {},
   "outputs": [
    {
     "name": "stdout",
     "output_type": "stream",
     "text": [
      "Original points: 478820\n",
      "Subsampling points from 478820 to 50000\n"
     ]
    },
    {
     "data": {
      "application/vnd.jupyter.widget-view+json": {
       "model_id": "6f6b85fe5d174e8495674178752dcbaa",
       "version_major": 2,
       "version_minor": 0
      },
      "text/plain": [
       "Widget(value='<iframe src=\"http://localhost:59447/index.html?ui=P_0x1570fe8c0_2&reconnect=auto\" class=\"pyvista…"
      ]
     },
     "metadata": {},
     "output_type": "display_data"
    }
   ],
   "source": [
    "mesh_utils.visualize_phi(points, phi_transmural, subsample_factor=1, point_size=5)"
   ]
  },
  {
   "cell_type": "code",
   "execution_count": null,
   "metadata": {},
   "outputs": [],
   "source": []
  }
 ],
 "metadata": {
  "kernelspec": {
   "display_name": "openCARP",
   "language": "python",
   "name": "python3"
  },
  "language_info": {
   "codemirror_mode": {
    "name": "ipython",
    "version": 3
   },
   "file_extension": ".py",
   "mimetype": "text/x-python",
   "name": "python",
   "nbconvert_exporter": "python",
   "pygments_lexer": "ipython3",
   "version": "3.10.16"
  }
 },
 "nbformat": 4,
 "nbformat_minor": 4
}
