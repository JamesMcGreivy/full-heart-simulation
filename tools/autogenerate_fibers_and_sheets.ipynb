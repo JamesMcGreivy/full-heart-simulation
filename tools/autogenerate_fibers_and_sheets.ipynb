{
 "cells": [
  {
   "cell_type": "code",
   "execution_count": 16,
   "metadata": {},
   "outputs": [
    {
     "data": {
      "text/plain": [
       "<module 'mesh_utils' from '/Users/jamesmcgreivy/Desktop/opencarp_test/full-heart-simulation/tools/mesh_utils.py'>"
      ]
     },
     "execution_count": 16,
     "metadata": {},
     "output_type": "execute_result"
    }
   ],
   "source": [
    "import mesh_utils\n",
    "import numpy as np\n",
    "import importlib\n",
    "importlib.reload(mesh_utils)"
   ]
  },
  {
   "cell_type": "markdown",
   "metadata": {},
   "source": [
    "## For converting the raw .vtp and .vtu files to openCARP format:"
   ]
  },
  {
   "cell_type": "code",
   "execution_count": null,
   "metadata": {},
   "outputs": [
    {
     "name": "stdout",
     "output_type": "stream",
     "text": [
      "Reading surface mesh: ../data/instance_001/instance_001.vtp\n",
      "Reading volume mesh: ../data/instance_001/instance_001.vtu\n",
      "Converting to openCARP format. Output directory: ../data/instance_001/\n",
      "Extracted tv shape: (478820,)\n",
      "tv range: 0.0 to 1.0\n",
      "Extracted tm shape: (478820,)\n",
      "tm range: 0.0 to 1.0\n",
      "Extracted rtSin shape: (478820,)\n",
      "rtSin range: -1.0 to 1.0\n",
      "Extracted rtCos shape: (478820,)\n",
      "rtCos range: -1.0 to 0.9999998807907104\n",
      "Extracted rt shape: (478820,)\n",
      "rt range: 1.2781016494045616e-06 to 0.999995768070221\n",
      "Extracted ab shape: (478820,)\n",
      "ab range: 0.0 to 1.0\n",
      "Saved UVC data to ../data/instance_001/instance_001_UVC.csv\n",
      "Created ../data/instance_001/instance_001.pts with 478820 points\n",
      "Created instance_001.elem with tetrahedral elements\n",
      "Created instance_001.surf with surface triangles\n",
      "Conversion complete! Files saved to: ../data/instance_001/\n"
     ]
    }
   ],
   "source": [
    "data_path = \"../data/instance_001/\"\n",
    "vtp_path = data_path + \"instance_001.vtp\"\n",
    "vtu_path = data_path + \"instance_001.vtu\"\n",
    "output_prefix = \"instance_001\"\n",
    "\n",
    "mesh_utils.vtk_to_opencarp(vtp_path, vtu_path, output_prefix, data_path)"
   ]
  },
  {
   "cell_type": "markdown",
   "metadata": {},
   "source": [
    "## Read in the points, surfaces, tetrahedra, and UVCs"
   ]
  },
  {
   "cell_type": "code",
   "execution_count": 17,
   "metadata": {},
   "outputs": [
    {
     "name": "stdout",
     "output_type": "stream",
     "text": [
      "Reading points from /Users/jamesmcgreivy/Desktop/opencarp_test/full-heart-simulation/data/instance_001_lowres/instance_001_lowres.pts\n",
      "Loaded 191568 points with shape (191568, 3)\n",
      "Reading tetrahedra from /Users/jamesmcgreivy/Desktop/opencarp_test/full-heart-simulation/data/instance_001_lowres/instance_001_lowres.elem\n",
      "Loaded 974607 tetrahedra with shape (974607, 4)\n",
      "Reading triangles from /Users/jamesmcgreivy/Desktop/opencarp_test/full-heart-simulation/data/instance_001_lowres/instance_001_lowres.surf\n",
      "Loaded 127944 triangles with shape (127944, 3)\n",
      "Reading UVC data from /Users/jamesmcgreivy/Desktop/opencarp_test/full-heart-simulation/data/instance_001_lowres/instance_001_lowres_UVC.csv\n",
      "Loaded UVC data with shape (191568, 6)\n",
      "UVC columns: ['tv', 'tm', 'rtSin', 'rtCos', 'rt', 'ab']\n"
     ]
    }
   ],
   "source": [
    "data_path = \"/Users/jamesmcgreivy/Desktop/opencarp_test/full-heart-simulation/data/instance_001_lowres/\"\n",
    "output_prefix = \"instance_001_lowres\"\n",
    "reader = mesh_utils.OpenCARPMeshReader(data_path, output_prefix)\n",
    "points, tetrahedra, tetrahedra_regions, triangles, triangle_regions, uvc_data = reader.read_all()"
   ]
  },
  {
   "cell_type": "markdown",
   "metadata": {},
   "source": [
    "## Use the UVCs to define a coordinate system and compute the fiber and sheet directions"
   ]
  },
  {
   "cell_type": "code",
   "execution_count": 18,
   "metadata": {},
   "outputs": [],
   "source": [
    "phi_transmural = np.array(uvc_data['tm'])\n",
    "phi_longitudinal = np.array(uvc_data['ab'])\n",
    "phi_circumferential = np.array(uvc_data[\"rt\"])\n",
    "TransmuralField, LongitudinalField, CircumferentialField = mesh_utils.compute_normed_gradients(points, -phi_transmural, -phi_longitudinal, phi_circumferential)"
   ]
  },
  {
   "cell_type": "code",
   "execution_count": 24,
   "metadata": {},
   "outputs": [
    {
     "name": "stdout",
     "output_type": "stream",
     "text": [
      "Original points: 191568\n",
      "Original triangles: 127944\n",
      "Epicardium triangles: 61801\n",
      "Endocardium triangles: 63850\n",
      "Sampled epicardium points: 310\n",
      "Sampled endocardium points: 321\n"
     ]
    },
    {
     "data": {
      "application/vnd.jupyter.widget-view+json": {
       "model_id": "df795c5ddfb94a1fab0c4ed5507d8795",
       "version_major": 2,
       "version_minor": 0
      },
      "text/plain": [
       "Widget(value='<iframe src=\"http://localhost:61460/index.html?ui=P_0x34b7a8bb0_11&reconnect=auto\" class=\"pyvist…"
      ]
     },
     "metadata": {},
     "output_type": "display_data"
    }
   ],
   "source": [
    "mesh_utils.visualize_vector_fields(\n",
    "    points, triangles, triangle_regions,\n",
    "    TransmuralField, LongitudinalField, CircumferentialField, subsample_factor=100, glyph_scale=5000\n",
    ")"
   ]
  },
  {
   "cell_type": "code",
   "execution_count": 25,
   "metadata": {},
   "outputs": [
    {
     "name": "stdout",
     "output_type": "stream",
     "text": [
      "Original points: 191568\n",
      "Original triangles: 127944\n",
      "Epicardium triangles: 61801\n",
      "Endocardium triangles: 63850\n",
      "Sampled epicardium points: 621\n",
      "Sampled endocardium points: 642\n"
     ]
    },
    {
     "data": {
      "application/vnd.jupyter.widget-view+json": {
       "model_id": "18fcc16069904f949968856f84876465",
       "version_major": 2,
       "version_minor": 0
      },
      "text/plain": [
       "Widget(value='<iframe src=\"http://localhost:61460/index.html?ui=P_0x3343584c0_12&reconnect=auto\" class=\"pyvist…"
      ]
     },
     "metadata": {},
     "output_type": "display_data"
    }
   ],
   "source": [
    "fiber_dirs, sheet_dirs, sheet_normal_dirs = mesh_utils.compute_fiber_sheet_directions(TransmuralField, LongitudinalField, CircumferentialField, phi_transmural, \n",
    "                                                                                      endo_fiber_angle=60.0, epi_fiber_angle=-60, endo_sheet_angle=-65, epi_sheet_angle=25\n",
    ")\n",
    "\n",
    "mesh_utils.visualize_fibers(\n",
    "    points, triangles, triangle_regions,\n",
    "    fiber_dirs, subsample_factor=50, glyph_scale=5000\n",
    ")"
   ]
  },
  {
   "cell_type": "code",
   "execution_count": 26,
   "metadata": {},
   "outputs": [
    {
     "name": "stdout",
     "output_type": "stream",
     "text": [
      "Processing 974607 elements for .lon file...\n"
     ]
    },
    {
     "name": "stderr",
     "output_type": "stream",
     "text": [
      "Precomputing element directions: 100%|██████████| 974607/974607 [00:15<00:00, 62264.72it/s]\n"
     ]
    },
    {
     "name": "stdout",
     "output_type": "stream",
     "text": [
      "Verifying orthogonality of element directions...\n",
      "Maximum dot products: fiber·sheet=0.999750, fiber·normal=0.999961, sheet·normal=0.999033\n",
      "Writing to /Users/jamesmcgreivy/Desktop/opencarp_test/full-heart-simulation/data/instance_001_lowres/instance_001_lowres.lon...\n"
     ]
    },
    {
     "name": "stderr",
     "output_type": "stream",
     "text": [
      "Writing .lon file: 100%|██████████| 98/98 [00:02<00:00, 47.64it/s]"
     ]
    },
    {
     "name": "stdout",
     "output_type": "stream",
     "text": [
      "Successfully wrote fiber orientations to /Users/jamesmcgreivy/Desktop/opencarp_test/full-heart-simulation/data/instance_001_lowres/instance_001_lowres.lon\n"
     ]
    },
    {
     "name": "stderr",
     "output_type": "stream",
     "text": [
      "\n"
     ]
    }
   ],
   "source": [
    "mesh_utils.write_lon_file(\n",
    "    f\"{data_path}{output_prefix}.lon\", \n",
    "    fiber_dirs, \n",
    "    sheet_dirs, \n",
    "    sheet_normal_dirs,  # Now including sheet normal directions\n",
    "    tetrahedra\n",
    ")"
   ]
  },
  {
   "cell_type": "markdown",
   "metadata": {},
   "source": [
    "## Tag the fast conducting endocardium"
   ]
  },
  {
   "cell_type": "code",
   "execution_count": 27,
   "metadata": {},
   "outputs": [
    {
     "name": "stdout",
     "output_type": "stream",
     "text": [
      "Identifying points with phi_longitudinal between 0.2 and 0.9...\n",
      "Found 154765 points with valid longitudinal coordinate\n",
      "Identifying endocardial points...\n",
      "Found 32143 points on the endocardium\n",
      "Found 25493 points that satisfy both criteria\n",
      "Tagging tetrahedra...\n"
     ]
    },
    {
     "name": "stderr",
     "output_type": "stream",
     "text": [
      "100%|██████████| 98/98 [00:00<00:00, 142.00it/s]\n"
     ]
    },
    {
     "name": "stdout",
     "output_type": "stream",
     "text": [
      "Tagged 163358 tetrahedra (16.76%) as fast conducting endocardium\n",
      "Writing modified element file to /Users/jamesmcgreivy/Desktop/opencarp_test/full-heart-simulation/data/instance_001_lowres/instance_001_lowres.elem...\n"
     ]
    },
    {
     "name": "stderr",
     "output_type": "stream",
     "text": [
      "100%|██████████| 974607/974607 [00:01<00:00, 895907.04it/s]\n"
     ]
    },
    {
     "name": "stdout",
     "output_type": "stream",
     "text": [
      "Successfully wrote modified element file to /Users/jamesmcgreivy/Desktop/opencarp_test/full-heart-simulation/data/instance_001_lowres/instance_001_lowres.elem\n"
     ]
    }
   ],
   "source": [
    "mesh_utils.tag_fast_conducting_endocardium(\n",
    "    points, \n",
    "    tetrahedra, \n",
    "    triangles, \n",
    "    triangle_regions, \n",
    "    phi_longitudinal, \n",
    "    f\"{data_path}{output_prefix}.elem\",\n",
    "    long_min = 0.2,\n",
    "    long_max = 0.9\n",
    ")"
   ]
  },
  {
   "cell_type": "markdown",
   "metadata": {},
   "source": [
    "## Tag the fascicular sites and output to a .vtx file"
   ]
  },
  {
   "cell_type": "code",
   "execution_count": 29,
   "metadata": {},
   "outputs": [
    {
     "name": "stdout",
     "output_type": "stream",
     "text": [
      "Total fascicular sites: 11\n",
      "Cluster 0: 6 points, Cluster 1: 5 points\n",
      "Selected LV cluster (label 1) with 5 points\n",
      "Original points: 191568\n",
      "Original triangles: 127944\n",
      "Number of fascicular sites: 5\n",
      "Endocardium triangles: 63850\n",
      "Displaying all 5 fascicular sites\n"
     ]
    },
    {
     "name": "stderr",
     "output_type": "stream",
     "text": [
      "/Users/jamesmcgreivy/miniconda3/envs/openCARP/lib/python3.10/site-packages/pyvista/core/filters/data_set.py:2386: UserWarning: No vector-like data to use for orient. orient will be set to False.\n",
      "  warnings.warn(\"No vector-like data to use for orient. orient will be set to False.\")\n"
     ]
    },
    {
     "data": {
      "application/vnd.jupyter.widget-view+json": {
       "model_id": "a546f1cb8bf2450eb530fb5d047789c4",
       "version_major": 2,
       "version_minor": 0
      },
      "text/plain": [
       "Widget(value='<iframe src=\"http://localhost:61460/index.html?ui=P_0x338d55e70_14&reconnect=auto\" class=\"pyvist…"
      ]
     },
     "metadata": {},
     "output_type": "display_data"
    },
    {
     "name": "stdout",
     "output_type": "stream",
     "text": [
      "Saving 5 fascicular site indices to /Users/jamesmcgreivy/Desktop/opencarp_test/full-heart-simulation/data/instance_001_lowres/fascicular_stim.vtx\n",
      "Successfully saved fascicular sites to /Users/jamesmcgreivy/Desktop/opencarp_test/full-heart-simulation/data/instance_001_lowres/fascicular_stim.vtx\n"
     ]
    },
    {
     "data": {
      "text/plain": [
       "'/Users/jamesmcgreivy/Desktop/opencarp_test/full-heart-simulation/data/instance_001_lowres/fascicular_stim.vtx'"
      ]
     },
     "execution_count": 29,
     "metadata": {},
     "output_type": "execute_result"
    }
   ],
   "source": [
    "import numpy as np\n",
    "from scipy.cluster.vq import kmeans2\n",
    "\n",
    "def filter_fascicular_sites_closer_to_LV(points, is_fascicular_site, septal_normal, LV_center, RV_center):\n",
    "    \"\"\"\n",
    "    Filter fascicular sites to keep only those closer to the left ventricle.\n",
    "    \"\"\"\n",
    "    # Get indices and coordinates of all fascicular sites\n",
    "    fascicular_indices = np.where(is_fascicular_site)[0]\n",
    "    fascicular_points = points[fascicular_indices]\n",
    "    \n",
    "    print(f\"Total fascicular sites: {len(fascicular_indices)}\")\n",
    "    \n",
    "    if len(fascicular_indices) == 0:\n",
    "        print(\"No fascicular sites found.\")\n",
    "        return is_fascicular_site\n",
    "    \n",
    "    # If there's only one cluster, check if it's closer to LV or RV\n",
    "    if len(fascicular_indices) < 5:  # Not enough points for reliable clustering\n",
    "        # Compute signed distance to the plane separating LV and RV\n",
    "        # The plane passes through the middle point between LV and RV centers\n",
    "        # with septal_normal as its normal\n",
    "        mid_point = (LV_center + RV_center) / 2\n",
    "        \n",
    "        # For each fascicular point, calculate its position relative to the plane\n",
    "        # Positive values mean the point is on the LV side\n",
    "        distances = np.dot(fascicular_points - mid_point, septal_normal)\n",
    "        \n",
    "        if np.all(distances > 0) or np.all(distances < 0):\n",
    "            # All points are on the same side\n",
    "            is_lv_side = np.mean(distances) > 0\n",
    "            print(f\"All fascicular sites are on the {'LV' if is_lv_side else 'RV'} side.\")\n",
    "            if not is_lv_side:\n",
    "                # If all points are on RV side, return empty array\n",
    "                return np.zeros_like(is_fascicular_site, dtype=bool)\n",
    "            return is_fascicular_site\n",
    "        \n",
    "    # Use k-means clustering to separate the two disks\n",
    "    centroids, labels = kmeans2(fascicular_points, k=2, minit='points')\n",
    "    \n",
    "    # Determine which centroid is closer to LV\n",
    "    # Calculate vectors from RV center to each centroid\n",
    "    vectors_to_centroids = centroids - RV_center\n",
    "    \n",
    "    # Project these vectors onto the septal normal\n",
    "    projections = np.dot(vectors_to_centroids, septal_normal)\n",
    "    \n",
    "    # The centroid with larger projection is closer to LV\n",
    "    lv_cluster_label = np.argmax(projections)\n",
    "    \n",
    "    # Count points in each cluster\n",
    "    cluster0_count = np.sum(labels == 0)\n",
    "    cluster1_count = np.sum(labels == 1)\n",
    "    print(f\"Cluster 0: {cluster0_count} points, Cluster 1: {cluster1_count} points\")\n",
    "    print(f\"Selected LV cluster (label {lv_cluster_label}) with {np.sum(labels == lv_cluster_label)} points\")\n",
    "    \n",
    "    # Create a new boolean array with only the LV cluster points\n",
    "    is_lv_fascicular_site = np.zeros_like(is_fascicular_site, dtype=bool)\n",
    "    lv_indices = fascicular_indices[labels == lv_cluster_label]\n",
    "    is_lv_fascicular_site[lv_indices] = True\n",
    "    \n",
    "    return is_lv_fascicular_site\n",
    "\n",
    "disk_height_tolerance = 0.05\n",
    "disk_radius = 0.02\n",
    "\n",
    "coord_t = 0.65\n",
    "coord_l = 0.30\n",
    "coord_c = 0.8\n",
    "\n",
    "is_fascicular_site = np.logical_and( np.abs(phi_transmural - coord_t) < disk_height_tolerance , ((phi_longitudinal - coord_l)**2.0 + (phi_circumferential - coord_c)**2.0) < disk_radius**2.0 ) \n",
    "\n",
    "LV_points = np.array(list(set(triangles[triangle_regions == 3].flatten()))) # Left ventricular endocardium\n",
    "RV_points = np.array(list(set(triangles[triangle_regions == 4].flatten()))) # Right ventricular endocardium\n",
    "\n",
    "LV_center = points[LV_points].mean(axis=0)\n",
    "RV_center = points[RV_points].mean(axis=0)\n",
    "\n",
    "septal_normal = RV_center - LV_center\n",
    "septal_normal /= np.linalg.norm(septal_normal)\n",
    "\n",
    "is_fascicular_site = filter_fascicular_sites_closer_to_LV(points, is_fascicular_site, septal_normal, LV_center, RV_center)\n",
    "\n",
    "mesh_utils.visualize_fascicular_sites(\n",
    "    points, triangles, triangle_regions,\n",
    "    is_fascicular_site, sphere_scale=1000\n",
    ")\n",
    "\n",
    "mesh_utils.save_fascicular_sites_to_vtx(is_fascicular_site, output_filename=f\"{data_path}fascicular_stim.vtx\")"
   ]
  },
  {
   "cell_type": "markdown",
   "metadata": {},
   "source": [
    "##  Extra utility function -- for visualizing the scalar fields"
   ]
  },
  {
   "cell_type": "code",
   "execution_count": 15,
   "metadata": {},
   "outputs": [
    {
     "name": "stdout",
     "output_type": "stream",
     "text": [
      "Original points: 478820\n",
      "Subsampling points from 478820 to 50000\n"
     ]
    },
    {
     "data": {
      "application/vnd.jupyter.widget-view+json": {
       "model_id": "d3ac9f7475ec455ba013a50a2773d16b",
       "version_major": 2,
       "version_minor": 0
      },
      "text/plain": [
       "Widget(value='<iframe src=\"http://localhost:61460/index.html?ui=P_0x17832efe0_5&reconnect=auto\" class=\"pyvista…"
      ]
     },
     "metadata": {},
     "output_type": "display_data"
    }
   ],
   "source": [
    "mesh_utils.visualize_phi(points, phi_longitudinal, subsample_factor=1, point_size=5)"
   ]
  }
 ],
 "metadata": {
  "kernelspec": {
   "display_name": "openCARP",
   "language": "python",
   "name": "python3"
  },
  "language_info": {
   "codemirror_mode": {
    "name": "ipython",
    "version": 3
   },
   "file_extension": ".py",
   "mimetype": "text/x-python",
   "name": "python",
   "nbconvert_exporter": "python",
   "pygments_lexer": "ipython3",
   "version": "3.10.16"
  }
 },
 "nbformat": 4,
 "nbformat_minor": 2
}
