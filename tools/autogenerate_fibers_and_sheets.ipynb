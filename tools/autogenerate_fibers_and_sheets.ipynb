{
 "cells": [
  {
   "cell_type": "code",
   "execution_count": null,
   "metadata": {},
   "outputs": [],
   "source": [
    "import mesh_utils\n",
    "import numpy as np\n",
    "import importlib\n",
    "importlib.reload(mesh_utils)"
   ]
  },
  {
   "cell_type": "markdown",
   "metadata": {},
   "source": [
    "## For converting the raw .vtp and .vtu files to openCARP format:"
   ]
  },
  {
   "cell_type": "code",
   "execution_count": null,
   "metadata": {},
   "outputs": [
    {
     "name": "stdout",
     "output_type": "stream",
     "text": [
      "Reading surface mesh: ../data/instance_001/instance_001.vtp\n",
      "Reading volume mesh: ../data/instance_001/instance_001.vtu\n",
      "Converting to openCARP format. Output directory: ../data/instance_001/\n",
      "Extracted tv shape: (478820,)\n",
      "tv range: 0.0 to 1.0\n",
      "Extracted tm shape: (478820,)\n",
      "tm range: 0.0 to 1.0\n",
      "Extracted rtSin shape: (478820,)\n",
      "rtSin range: -1.0 to 1.0\n",
      "Extracted rtCos shape: (478820,)\n",
      "rtCos range: -1.0 to 0.9999998807907104\n",
      "Extracted rt shape: (478820,)\n",
      "rt range: 1.2781016494045616e-06 to 0.999995768070221\n",
      "Extracted ab shape: (478820,)\n",
      "ab range: 0.0 to 1.0\n",
      "Saved UVC data to ../data/instance_001/instance_001_UVC.csv\n",
      "Created ../data/instance_001/instance_001.pts with 478820 points\n",
      "Created instance_001.elem with tetrahedral elements\n",
      "Created instance_001.surf with surface triangles\n",
      "Reading points from ../data/instance_001/instance_001.pts\n",
      "Loaded 478820 points with shape (478820, 3)\n",
      "Scaled points by factor of 1000\n",
      "Saved scaled points back to ../data/instance_001/instance_001.pts\n",
      "Conversion complete! Files saved to: ../data/instance_001/\n"
     ]
    }
   ],
   "source": [
    "data_path = \"../data/instance_001/\"\n",
    "vtp_path = data_path + \"instance_001.vtp\"\n",
    "vtu_path = data_path + \"instance_001.vtu\"\n",
    "output_prefix = \"instance_001\"\n",
    "\n",
    "mesh_utils.vtk_to_opencarp(vtp_path, vtu_path, output_prefix, data_path)"
   ]
  },
  {
   "cell_type": "markdown",
   "metadata": {},
   "source": [
    "## Read in the points, surfaces, tetrahedra, and UVCs"
   ]
  },
  {
   "cell_type": "code",
   "execution_count": 2,
   "metadata": {},
   "outputs": [
    {
     "name": "stdout",
     "output_type": "stream",
     "text": [
      "Reading points from /work/submit/mcgreivy/full-heart-simulation/data/instance_001_lowres/instance_001_lowres.pts\n",
      "Loaded 210411 points with shape (210411, 3)\n",
      "Reading tetrahedra from /work/submit/mcgreivy/full-heart-simulation/data/instance_001_lowres/instance_001_lowres.elem\n",
      "Loaded 1040683 tetrahedra with shape (1040683, 4)\n",
      "Reading triangles from /work/submit/mcgreivy/full-heart-simulation/data/instance_001_lowres/instance_001_lowres.surf\n",
      "Loaded 158252 triangles with shape (158252, 3)\n",
      "Reading UVC data from /work/submit/mcgreivy/full-heart-simulation/data/instance_001_lowres/instance_001_lowres_UVC.csv\n",
      "Loaded UVC data with shape (210411, 6)\n",
      "UVC columns: ['tv', 'tm', 'rtSin', 'rtCos', 'rt', 'ab']\n"
     ]
    }
   ],
   "source": [
    "prefix = \"instance_001_lowres\"\n",
    "data_path = f\"/work/submit/mcgreivy/full-heart-simulation/data/{prefix}\"\n",
    "\n",
    "reader = mesh_utils.OpenCARPMeshReader(data_path, prefix)\n",
    "points, tetrahedra, tetrahedra_regions, triangles, triangle_regions, uvc_data = reader.read_all()"
   ]
  },
  {
   "cell_type": "markdown",
   "metadata": {},
   "source": [
    "## Use the UVCs to define a coordinate system and compute the fiber and sheet directions"
   ]
  },
  {
   "cell_type": "code",
   "execution_count": 7,
   "metadata": {},
   "outputs": [],
   "source": [
    "phi_transmural = np.array(uvc_data['tm'])\n",
    "phi_longitudinal = np.array(uvc_data['ab'])\n",
    "phi_circumferential = np.array(uvc_data[\"rt\"])"
   ]
  },
  {
   "cell_type": "code",
   "execution_count": 6,
   "metadata": {},
   "outputs": [
    {
     "ename": "NameError",
     "evalue": "name 'phi_transmural' is not defined",
     "output_type": "error",
     "traceback": [
      "\u001b[0;31m---------------------------------------------------------------------------\u001b[0m",
      "\u001b[0;31mNameError\u001b[0m                                 Traceback (most recent call last)",
      "Cell \u001b[0;32mIn[6], line 1\u001b[0m\n\u001b[0;32m----> 1\u001b[0m TransmuralField, LongitudinalField, CircumferentialField \u001b[38;5;241m=\u001b[39m mesh_utils\u001b[38;5;241m.\u001b[39mcompute_normed_gradients(points, \u001b[38;5;241m-\u001b[39m\u001b[43mphi_transmural\u001b[49m, \u001b[38;5;241m-\u001b[39mphi_longitudinal, phi_circumferential)\n",
      "\u001b[0;31mNameError\u001b[0m: name 'phi_transmural' is not defined"
     ]
    }
   ],
   "source": [
    "TransmuralField, LongitudinalField, CircumferentialField = mesh_utils.compute_normed_gradients(points, -phi_transmural, -phi_longitudinal, phi_circumferential)"
   ]
  },
  {
   "cell_type": "code",
   "execution_count": 17,
   "metadata": {},
   "outputs": [
    {
     "name": "stderr",
     "output_type": "stream",
     "text": [
      "/work/submit/mcgreivy/miniconda3/envs/openCARP/lib/python3.10/site-packages/pyvista/plotting/plotter.py:159: UserWarning: \n",
      "This system does not appear to be running an xserver.\n",
      "PyVista will likely segfault when rendering.\n",
      "\n",
      "Try starting a virtual frame buffer with xvfb, or using\n",
      "  ``pyvista.start_xvfb()``\n",
      "\n",
      "  warnings.warn(\n",
      "/work/submit/mcgreivy/miniconda3/envs/openCARP/lib/python3.10/site-packages/pyvista/jupyter/notebook.py:37: UserWarning: Failed to use notebook backend: \n",
      "\n",
      "No module named 'trame'\n",
      "\n",
      "Falling back to a static output.\n",
      "  warnings.warn(\n",
      "ERROR:root:bad X server connection. DISPLAY=\n",
      "\u001b[0m\u001b[31m2025-03-08 11:43:47.293 ( 763.834s) [    7F3370EE9740]vtkXOpenGLRenderWindow.:456    ERR| vtkXOpenGLRenderWindow (0x48f6ad0): bad X server connection. DISPLAY=\u001b[0m\n"
     ]
    },
    {
     "ename": "",
     "evalue": "",
     "output_type": "error",
     "traceback": [
      "\u001b[1;31mThe Kernel crashed while executing code in the current cell or a previous cell. \n",
      "\u001b[1;31mPlease review the code in the cell(s) to identify a possible cause of the failure. \n",
      "\u001b[1;31mClick <a href='https://aka.ms/vscodeJupyterKernelCrash'>here</a> for more info. \n",
      "\u001b[1;31mView Jupyter <a href='command:jupyter.viewOutput'>log</a> for further details."
     ]
    }
   ],
   "source": [
    "mesh_utils.visualize_vector_fields(\n",
    "    points, triangles, triangle_regions,\n",
    "    TransmuralField, LongitudinalField, CircumferentialField, subsample_factor=20, glyph_scale=5000\n",
    ")"
   ]
  },
  {
   "cell_type": "code",
   "execution_count": null,
   "metadata": {},
   "outputs": [],
   "source": [
    "fiber_dirs, sheet_dirs, sheet_normal_dirs = mesh_utils.compute_fiber_sheet_directions(TransmuralField, LongitudinalField, CircumferentialField, phi_transmural, \n",
    "                                                                                      endo_fiber_angle=60.0, epi_fiber_angle=-60, endo_sheet_angle=-65, epi_sheet_angle=25\n",
    ")\n",
    "\n",
    "mesh_utils.visualize_fibers(\n",
    "    points, triangles, triangle_regions,\n",
    "    fiber_dirs, subsample_factor=10, glyph_scale=5000\n",
    ")"
   ]
  },
  {
   "cell_type": "code",
   "execution_count": null,
   "metadata": {},
   "outputs": [
    {
     "name": "stdout",
     "output_type": "stream",
     "text": [
      "Processing 2555157 elements for .lon file...\n"
     ]
    },
    {
     "name": "stderr",
     "output_type": "stream",
     "text": [
      "Precomputing element directions: 100%|██████████| 2555157/2555157 [00:44<00:00, 58003.73it/s]\n"
     ]
    },
    {
     "name": "stdout",
     "output_type": "stream",
     "text": [
      "Verifying orthogonality of element directions...\n",
      "Maximum dot products: fiber·sheet=0.999987, fiber·normal=0.999816, sheet·normal=0.999924\n",
      "Writing to /Users/jamesmcgreivy/Desktop/opencarp_test/full-heart-simulation/data/instance_001/instance_001.lon...\n"
     ]
    },
    {
     "name": "stderr",
     "output_type": "stream",
     "text": [
      "Writing .lon file: 100%|██████████| 256/256 [00:05<00:00, 44.94it/s]"
     ]
    },
    {
     "name": "stdout",
     "output_type": "stream",
     "text": [
      "Successfully wrote fiber orientations to /Users/jamesmcgreivy/Desktop/opencarp_test/full-heart-simulation/data/instance_001/instance_001.lon\n"
     ]
    },
    {
     "name": "stderr",
     "output_type": "stream",
     "text": [
      "\n"
     ]
    }
   ],
   "source": [
    "mesh_utils.write_lon_file(\n",
    "    f\"{data_path}/{prefix}.lon\", \n",
    "    fiber_dirs, \n",
    "    sheet_dirs, \n",
    "    sheet_normal_dirs,\n",
    "    tetrahedra\n",
    ")"
   ]
  },
  {
   "cell_type": "markdown",
   "metadata": {},
   "source": [
    "## Tag the fast conducting endocardium"
   ]
  },
  {
   "cell_type": "code",
   "execution_count": null,
   "metadata": {},
   "outputs": [
    {
     "name": "stdout",
     "output_type": "stream",
     "text": [
      "Identifying points with phi_longitudinal between 0.2 and 0.85...\n",
      "Found 356093 points with valid longitudinal coordinate\n",
      "Identifying endocardial points...\n",
      "Found 52674 points on the endocardium\n",
      "Found 38338 points that satisfy both criteria\n",
      "Tagging tetrahedra...\n"
     ]
    },
    {
     "name": "stderr",
     "output_type": "stream",
     "text": [
      "100%|██████████| 256/256 [00:01<00:00, 136.60it/s]\n"
     ]
    },
    {
     "name": "stdout",
     "output_type": "stream",
     "text": [
      "Tagged 259191 tetrahedra (10.14%) as fast conducting endocardium\n",
      "Writing modified element file to /Users/jamesmcgreivy/Desktop/opencarp_test/full-heart-simulation/data/instance_001/instance_001.elem...\n"
     ]
    },
    {
     "name": "stderr",
     "output_type": "stream",
     "text": [
      "100%|██████████| 2555157/2555157 [00:02<00:00, 875736.89it/s]"
     ]
    },
    {
     "name": "stdout",
     "output_type": "stream",
     "text": [
      "Successfully wrote modified element file to /Users/jamesmcgreivy/Desktop/opencarp_test/full-heart-simulation/data/instance_001/instance_001.elem\n"
     ]
    },
    {
     "name": "stderr",
     "output_type": "stream",
     "text": [
      "\n"
     ]
    }
   ],
   "source": [
    "mesh_utils.tag_fast_conducting_endocardium(\n",
    "    points, \n",
    "    tetrahedra, \n",
    "    triangles, \n",
    "    triangle_regions, \n",
    "    phi_longitudinal, \n",
    "    f\"{data_path}/{prefix}.elem\",\n",
    "    long_min = 0.2,\n",
    "    long_max = 0.85\n",
    ")"
   ]
  },
  {
   "cell_type": "markdown",
   "metadata": {},
   "source": [
    "## Tag the fascicular sites and output to a .vtx file"
   ]
  },
  {
   "cell_type": "code",
   "execution_count": 63,
   "metadata": {},
   "outputs": [
    {
     "name": "stdout",
     "output_type": "stream",
     "text": [
      "Original points: 478820\n",
      "Original triangles: 199902\n",
      "Number of fascicular sites: 307\n",
      "Endocardium triangles: 104504\n",
      "Displaying all 307 fascicular sites\n"
     ]
    },
    {
     "name": "stderr",
     "output_type": "stream",
     "text": [
      "/Users/jamesmcgreivy/miniconda3/envs/openCARP/lib/python3.10/site-packages/pyvista/core/filters/data_set.py:2386: UserWarning: No vector-like data to use for orient. orient will be set to False.\n",
      "  warnings.warn(\"No vector-like data to use for orient. orient will be set to False.\")\n"
     ]
    },
    {
     "data": {
      "application/vnd.jupyter.widget-view+json": {
       "model_id": "6268c8855afd4b5c8a4f34279c1bb120",
       "version_major": 2,
       "version_minor": 0
      },
      "text/plain": [
       "Widget(value='<iframe src=\"http://localhost:61771/index.html?ui=P_0x33df4bb20_21&reconnect=auto\" class=\"pyvist…"
      ]
     },
     "metadata": {},
     "output_type": "display_data"
    },
    {
     "name": "stdout",
     "output_type": "stream",
     "text": [
      "Saving 221 fascicular site indices to /Users/jamesmcgreivy/Desktop/opencarp_test/full-heart-simulation/data/instance_001/immediate_stim.vtx\n",
      "Successfully saved fascicular sites to /Users/jamesmcgreivy/Desktop/opencarp_test/full-heart-simulation/data/instance_001/immediate_stim.vtx\n",
      "Saving 86 fascicular site indices to /Users/jamesmcgreivy/Desktop/opencarp_test/full-heart-simulation/data/instance_001/delayed_stim.vtx\n",
      "Successfully saved fascicular sites to /Users/jamesmcgreivy/Desktop/opencarp_test/full-heart-simulation/data/instance_001/delayed_stim.vtx\n"
     ]
    },
    {
     "data": {
      "text/plain": [
       "'/Users/jamesmcgreivy/Desktop/opencarp_test/full-heart-simulation/data/instance_001/delayed_stim.vtx'"
      ]
     },
     "execution_count": 63,
     "metadata": {},
     "output_type": "execute_result"
    }
   ],
   "source": [
    "import numpy as np\n",
    "\n",
    "def tag_fascicular_sites(points, phi_transmural, phi_longitudinal, phi_circumferential, \n",
    "                          triangles, triangle_regions):\n",
    "    \"\"\"\n",
    "    Tag fascicular sites according to the Durrer-based model.\n",
    "    \n",
    "    Parameters:\n",
    "    ----------\n",
    "    points : numpy.ndarray\n",
    "        Vertices of the mesh\n",
    "    phi_transmural : numpy.ndarray\n",
    "        Transmural coordinates (0 on epicardium, 1 on endocardium)\n",
    "    phi_longitudinal : numpy.ndarray\n",
    "        Longitudinal coordinates (1 on base, 0 on apex)\n",
    "    phi_circumferential : numpy.ndarray\n",
    "        Circumferential coordinates (wraps around from 0-1)\n",
    "    triangles : numpy.ndarray\n",
    "        Triangle indices\n",
    "    triangle_regions : numpy.ndarray\n",
    "        Region labels for each triangle (3 for LV endocardium, 4 for RV endocardium)\n",
    "    \n",
    "    Returns:\n",
    "    -------\n",
    "    is_fascicular_site : numpy.ndarray\n",
    "        Boolean array indicating whether each point is a fascicular site\n",
    "    fascicular_site_tag : numpy.ndarray\n",
    "        Integer array with tags: 0 (not a site), 1 (LV anterior), 2 (LV posterior), \n",
    "        3 (LV/RV septal), 4 (RV moderator band)\n",
    "    \"\"\"\n",
    "    # Constants based on the criteria\n",
    "    transmural_depth = 1.0  # Just pick points directly on the endocardium\n",
    "    disk_thickness = 0.2  # 0.5% of the ventricular wall\n",
    "    \n",
    "    # Initialize arrays\n",
    "    num_points = len(points)\n",
    "    is_fascicular_site = np.zeros(num_points, dtype=bool)\n",
    "    fascicular_site_tag = np.zeros(num_points, dtype=int)\n",
    "    \n",
    "    # Define disk radius for endocardial extent\n",
    "    disk_radius = 0.025  # Adjust this parameter as needed\n",
    "    \n",
    "    # Get indices of LV and RV endocardial points\n",
    "    LV_points = np.array(list(set(triangles[triangle_regions == 3].flatten())))\n",
    "    RV_points = np.array(list(set(triangles[triangle_regions == 4].flatten())))\n",
    "    \n",
    "    # Calculate centers for LV and RV\n",
    "    LV_center = points[LV_points].mean(axis=0)\n",
    "    RV_center = points[RV_points].mean(axis=0)\n",
    "    \n",
    "    # Calculate septal normal vector (from LV to RV)\n",
    "    septal_normal = RV_center - LV_center\n",
    "    septal_normal = septal_normal / np.linalg.norm(septal_normal)\n",
    "    \n",
    "    # Helper function to determine if a point is closer to LV or RV\n",
    "    def is_closer_to_LV(point):\n",
    "        mid_point = (LV_center + RV_center) / 2\n",
    "        distance = np.dot(point - mid_point, septal_normal)\n",
    "        return distance < 0  # Negative means closer to LV, positive means closer to RV\n",
    "    \n",
    "    # 1. LV anterior site\n",
    "    lv_ant_circum = 0.25  # Around 1/4 of the way through circumferential coordinate\n",
    "    lv_ant_longit = 0.5   # Middle of the LV along longitudinal axis\n",
    "    \n",
    "    lv_ant_mask = np.logical_and(\n",
    "        np.abs(phi_transmural - transmural_depth) < disk_thickness/2,\n",
    "        np.logical_and(\n",
    "            (phi_circumferential - lv_ant_circum)**2 + (phi_longitudinal - lv_ant_longit)**2 < disk_radius**2,\n",
    "            np.array([is_closer_to_LV(p) for p in points])\n",
    "        )\n",
    "    )\n",
    "    \n",
    "    is_fascicular_site = np.logical_or(is_fascicular_site, lv_ant_mask)\n",
    "    fascicular_site_tag[lv_ant_mask] = 1\n",
    "    \n",
    "    # 2. LV posterior site\n",
    "    lv_post_circum = 0.6  # Around 3/4 of the way through circumferential coordinate\n",
    "    lv_post_longit = 0.5   # Middle of the LV along longitudinal axis\n",
    "    \n",
    "    lv_post_mask = np.logical_and(\n",
    "        np.abs(phi_transmural - transmural_depth) < disk_thickness/2,\n",
    "        np.logical_and(\n",
    "            (phi_circumferential - lv_post_circum)**2 + (phi_longitudinal - lv_post_longit)**2 < disk_radius**2,\n",
    "            np.array([is_closer_to_LV(p) for p in points])\n",
    "        )\n",
    "    )\n",
    "    \n",
    "    is_fascicular_site = np.logical_or(is_fascicular_site, lv_post_mask)\n",
    "    fascicular_site_tag[lv_post_mask] = 2\n",
    "    \n",
    "    # 3. Septal sites (LV and RV)\n",
    "    septal_anterior_circum = 0.95  # Anterior septal wall\n",
    "    septal_longit = 0.5          # Middle along longitudinal axis\n",
    "    \n",
    "    septal_mask = np.logical_and(\n",
    "        np.abs(phi_transmural - transmural_depth) < disk_thickness/2,\n",
    "        (phi_circumferential - septal_anterior_circum)**2 + (phi_longitudinal - septal_longit)**2 < disk_radius**2\n",
    "    )\n",
    "    \n",
    "    is_fascicular_site = np.logical_or(is_fascicular_site, septal_mask)\n",
    "    fascicular_site_tag[septal_mask] = 3\n",
    "    \n",
    "    # 4. RV moderator band\n",
    "    rv_mod_circum = 0.4      # Middle of RV free wall\n",
    "    rv_mod_longit = 0.5      # Middle along longitudinal axis\n",
    "    \n",
    "    rv_mod_mask = np.logical_and(\n",
    "        np.abs(phi_transmural - transmural_depth) < disk_thickness/2,\n",
    "        np.logical_and(\n",
    "            (phi_circumferential - rv_mod_circum)**2 + (phi_longitudinal - rv_mod_longit)**2 < disk_radius**2,\n",
    "            np.logical_not(np.array([is_closer_to_LV(p) for p in points]))\n",
    "        )\n",
    "    )\n",
    "    \n",
    "    is_fascicular_site = np.logical_or(is_fascicular_site, rv_mod_mask)\n",
    "    fascicular_site_tag[rv_mod_mask] = 4\n",
    "    \n",
    "    return is_fascicular_site, fascicular_site_tag\n",
    "\n",
    "\n",
    "is_fascicular_site, fascicular_site_tag = tag_fascicular_sites(points, phi_transmural, phi_longitudinal, phi_circumferential, triangles, triangle_regions)\n",
    "\n",
    "mesh_utils.visualize_fascicular_sites(\n",
    "    points, triangles, triangle_regions,\n",
    "    is_fascicular_site, fascicular_site_tag, \n",
    "    sphere_scale=1000,\n",
    ")\n",
    "\n",
    "immediate_stim = np.logical_and(is_fascicular_site, np.logical_or(fascicular_site_tag == 1, np.logical_or(fascicular_site_tag == 2, fascicular_site_tag == 3)))\n",
    "mesh_utils.save_fascicular_sites_to_vtx(immediate_stim, output_filename=f\"{data_path}/immediate_stim.vtx\")\n",
    "delayed_stim = np.logical_and(is_fascicular_site, fascicular_site_tag == 4)\n",
    "mesh_utils.save_fascicular_sites_to_vtx(delayed_stim, output_filename=f\"{data_path}/delayed_stim.vtx\")"
   ]
  },
  {
   "cell_type": "markdown",
   "metadata": {},
   "source": [
    "##  Extra utility function -- for visualizing the scalar fields"
   ]
  },
  {
   "cell_type": "code",
   "execution_count": 9,
   "metadata": {},
   "outputs": [
    {
     "ename": "",
     "evalue": "",
     "output_type": "error",
     "traceback": [
      "\u001b[1;31mThe Kernel crashed while executing code in the current cell or a previous cell. \n",
      "\u001b[1;31mPlease review the code in the cell(s) to identify a possible cause of the failure. \n",
      "\u001b[1;31mClick <a href='https://aka.ms/vscodeJupyterKernelCrash'>here</a> for more info. \n",
      "\u001b[1;31mView Jupyter <a href='command:jupyter.viewOutput'>log</a> for further details."
     ]
    }
   ],
   "source": [
    "mesh_utils.visualize_phi(points, phi_transmural, subsample_factor=1, point_size=5)"
   ]
  },
  {
   "cell_type": "code",
   "execution_count": null,
   "metadata": {},
   "outputs": [],
   "source": []
  }
 ],
 "metadata": {
  "kernelspec": {
   "display_name": "openCARP",
   "language": "python",
   "name": "python3"
  },
  "language_info": {
   "codemirror_mode": {
    "name": "ipython",
    "version": 3
   },
   "file_extension": ".py",
   "mimetype": "text/x-python",
   "name": "python",
   "nbconvert_exporter": "python",
   "pygments_lexer": "ipython3",
   "version": "3.10.16"
  }
 },
 "nbformat": 4,
 "nbformat_minor": 4
}
